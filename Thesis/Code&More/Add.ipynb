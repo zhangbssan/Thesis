{
 "cells": [
  {
   "cell_type": "markdown",
   "id": "80b00013",
   "metadata": {},
   "source": [
    "### Add some edge"
   ]
  },
  {
   "cell_type": "code",
   "execution_count": null,
   "id": "665b9e74",
   "metadata": {},
   "outputs": [],
   "source": [
    "import networkx as nx\n",
    "import matplotlib.pyplot as plt\n",
    "import numpy as np"
   ]
  },
  {
   "cell_type": "code",
   "execution_count": null,
   "id": "fb0ca555",
   "metadata": {},
   "outputs": [],
   "source": [
    "G = nx.DiGraph()\n",
    "G.add_nodes_from(['X1', 'X2', 'X3', 'X4'])\n",
    "G.add_edges_from([('X1', 'X2'), ('X1', 'X3'), ('X2', 'X3'),('X2','X4'),('X3','X4')])\n",
    "\n",
    "plt.figure(figsize=(8, 6))\n",
    "#bipartite_layout(G, nodes, align='vertical', scale=1, center=None, aspect_ratio=1.3333333333333333)[source]\n",
    "\n",
    "pos = {'X2': np.array([-1.  , -0.75]),\n",
    " 'X1': np.array([-1.  ,  0.75]),\n",
    " 'X3': np.array([ 1.  , 0.]),\n",
    " 'X4': np.array([3 , 0])} \n",
    "nx.draw_networkx(G, pos, with_labels=True, node_size=1000, node_color='lightgrey', font_size=12, font_weight='bold', arrows=True)\n",
    "plt.title('Simpon')\n",
    "plt.axis('off')  # Disable axis\n",
    "plt.show()"
   ]
  },
  {
   "cell_type": "markdown",
   "id": "cc6d81c1",
   "metadata": {},
   "source": [
    "The corresponding equations are $X_1 : f_1= \\tilde{u_1} \\\\ X_2 : f_2(x_1,u_2) = x_1 +\\tilde{u_2} \\\\ X_3 : f_3(x_1,u_3) = 2x_1 + 3x_2+\\tilde{ u_3 }\\\\\n",
    "   X_4 : f_4(x_3,u_4) = 4x_3 +5x_2+\\tilde{u_4}$ "
   ]
  },
  {
   "cell_type": "markdown",
   "id": "d6e2d115",
   "metadata": {},
   "source": [
    "The given data is $x^f=$ \n",
    "$[x_1 = 0.5 \\newline x_2 = 0.8 \\newline x_3 =4.1 \\newline x_4 = 16.5]$, then we get the exogenous variables values as:\n",
    "$\\tilde{u_1} = 0.5, \\space \\tilde{u_2} = 0.3 ,\\space \\tilde{u_3} = 0.7, \\space \\tilde{u_4} = -3.9$"
   ]
  }
 ],
 "metadata": {
  "kernelspec": {
   "display_name": "Python 3 (ipykernel)",
   "language": "python",
   "name": "python3"
  },
  "language_info": {
   "codemirror_mode": {
    "name": "ipython",
    "version": 3
   },
   "file_extension": ".py",
   "mimetype": "text/x-python",
   "name": "python",
   "nbconvert_exporter": "python",
   "pygments_lexer": "ipython3",
   "version": "3.10.7"
  }
 },
 "nbformat": 4,
 "nbformat_minor": 5
}
