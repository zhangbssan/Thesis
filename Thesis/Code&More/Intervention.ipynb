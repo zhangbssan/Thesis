{
 "cells": [
  {
   "cell_type": "markdown",
   "id": "47cddf4a",
   "metadata": {},
   "source": [
    "## Data Generation"
   ]
  },
  {
   "cell_type": "markdown",
   "id": "0c2c754c",
   "metadata": {},
   "source": [
    "### Causal Graph"
   ]
  },
  {
   "cell_type": "code",
   "execution_count": 2,
   "id": "f41fb741",
   "metadata": {},
   "outputs": [],
   "source": [
    "import numpy as np\n",
    "import random\n",
    "import networkx as nx\n",
    "import matplotlib.pyplot as plt"
   ]
  },
  {
   "cell_type": "code",
   "execution_count": 3,
   "id": "62a69b33",
   "metadata": {},
   "outputs": [],
   "source": [
    "class SCM:\n",
    "    def __init__(self,a,b,c,d,u1,u2,u3,u4):\n",
    "        self.x1_obs = self.x1(u1)\n",
    "        self.x2_obs = self.x2(a,u2)\n",
    "        self.x3_obs = self.x3(b,c,u3)\n",
    "        self.x4_obs = self.x4(d,u4)\n",
    "        self.u1 = u1\n",
    "        self.u2 = u2\n",
    "        self.u3 = u3\n",
    "        self.u4 = u4\n",
    "        \n",
    "           \n",
    "    def x1(self,u1):\n",
    "        x1 = u1\n",
    "        return x1\n",
    "    \n",
    "    def x2(self,a,u2):\n",
    "        x2 = a*self.x1_obs +u2\n",
    "        return x2\n",
    "    \n",
    "    def x3(self,b,c,u3):\n",
    "        x3 = b*self.x1_obs+c*self.x2_obs+u3\n",
    "        return x3\n",
    "    \n",
    "    \n",
    "    def x4(self,d,u4):\n",
    "        x4 = d*self.x3_obs+u4\n",
    "        return x4\n",
    "    \n"
   ]
  },
  {
   "cell_type": "markdown",
   "id": "928a83cc",
   "metadata": {},
   "source": [
    "## Intervention on Real Causal Graph"
   ]
  },
  {
   "cell_type": "code",
   "execution_count": 4,
   "id": "a5e92925",
   "metadata": {},
   "outputs": [],
   "source": [
    "class SCM_INTERVENTION(SCM):\n",
    "    def __init__(self,a,b,c,d,u1,u2,u3,u4):\n",
    "        #super().__init__(a,b,c,d,u1,u2,u3,u4)\n",
    "        self.x1_obs = super().x1(u1)\n",
    "        self.x2_obs = 0.3\n",
    "        self.x3_obs = super().x3(b,c,u3)\n",
    "        self.x4_obs = super().x4(d,u4)\n"
   ]
  },
  {
   "cell_type": "markdown",
   "id": "dd2a8c9d",
   "metadata": {},
   "source": [
    "## Remove Edge"
   ]
  },
  {
   "cell_type": "code",
   "execution_count": 5,
   "id": "4de3d12d",
   "metadata": {},
   "outputs": [],
   "source": [
    "class SCM_REMOVE_EXO():\n",
    "    def __init__(self,a,b,c,d,scm_true_obs):\n",
    "        self.x1_obs = scm_true_obs.x1_obs\n",
    "        self.x2_obs = scm_true_obs.x2_obs\n",
    "        self.x3_obs = scm_true_obs.x3_obs\n",
    "        self.x4_obs = scm_true_obs.x4_obs\n",
    "        self.u1_obs     = self.u1()\n",
    "        self.u2_obs     = self.u2(a)\n",
    "        self.u3_obs     = self.u3(b,c)\n",
    "        self.u4_obs     = self.u4(d)\n",
    "    \n",
    "    def u1(self):\n",
    "        u1 =  self.x1_obs\n",
    "        return u1\n",
    "  \n",
    "    def u2(self,a):\n",
    "        u2 = self.x2_obs - a*self.x1_obs \n",
    "        return u2\n",
    " \n",
    "    def u3(self,b,c):\n",
    "        u3 = self.x3_obs - b*self.x1_obs - c*self.x2_obs\n",
    "        return u3\n",
    "   \n",
    "    def u4(self,d):\n",
    "        u4 = self.x4_obs - d*self.x3_obs\n",
    "        return u4"
   ]
  },
  {
   "cell_type": "code",
   "execution_count": 6,
   "id": "8287c91a",
   "metadata": {},
   "outputs": [],
   "source": [
    "class SCM_REMOVE_INTERVENTION(SCM):\n",
    "    def __init__(self,a,b,c,d,scm_remove_exo):\n",
    "        self.u1     = scm_remove_exo.u1_obs\n",
    "        self.u2     = scm_remove_exo.u2_obs\n",
    "        self.u3     = scm_remove_exo.u3_obs\n",
    "        self.u4     = scm_remove_exo.u4_obs\n",
    "        self.x1_obs = super().x1(self.u1)\n",
    "        self.x2_obs = 0.3\n",
    "        self.x3_obs = super().x3(b,c,self.u3)\n",
    "        self.x4_obs = super().x4(d,self.u4)"
   ]
  },
  {
   "cell_type": "code",
   "execution_count": 7,
   "id": "9ebc2b05",
   "metadata": {},
   "outputs": [],
   "source": [
    "mean = 0.0\n",
    "std_dev = 1.0"
   ]
  },
  {
   "cell_type": "markdown",
   "id": "971c763a",
   "metadata": {},
   "source": [
    "### Intervention"
   ]
  },
  {
   "cell_type": "code",
   "execution_count": 8,
   "id": "aac4610b",
   "metadata": {},
   "outputs": [],
   "source": [
    "CF_x1=[]\n",
    "CF_x2=[]\n",
    "CF_x3=[]\n",
    "CF_x4=[]\n",
    "\n",
    "for i in range(0,100):\n",
    "    u1 = round(np.random.normal(mean,std_dev),2)\n",
    "    u2 = round(np.random.normal(mean,std_dev),2)\n",
    "    u3 = round(np.random.normal(mean,std_dev),2)\n",
    "    u4 = round(np.random.normal(mean,std_dev),2)\n",
    "    a = 1\n",
    "    b = 2\n",
    "    c = 3\n",
    "    d = 0.5\n",
    "    scm_generation = SCM(a,b,c,d,u1,u2,u3,u4)\n",
    "    # Data generation from the true SCM\n",
    "    scm_intervention = SCM_INTERVENTION(a,b,c,d,u1,u2,u3,u4)\n",
    "    # True Counterfactual point do(x2=0.3)\n",
    "    #for j in range(0,4):\n",
    "        #if j == 0:\n",
    "            #a = 0\n",
    "    # Remove the edge from x2 to x3\n",
    "            #scm_remove_exo = SCM_REMOVE_EXO(a,b,c,d,scm_generation)\n",
    "            #scm_remove_intervention = SCM_REMOVE_INTERVENTION(a,b,c,d,scm_remove_exo)\n",
    "        #if j == 1:\n",
    "           # b = 0\n",
    "       # if j == 2:\n",
    "    c = 0\n",
    "       # if j == 3:\n",
    "           # d = 0\n",
    "    scm_remove_exo = SCM_REMOVE_EXO(a,b,c,d,scm_generation)\n",
    "    \n",
    "\n",
    "    scm_remove_intervention = SCM_REMOVE_INTERVENTION(a,b,c,d,scm_remove_exo)\n",
    "    # Wrong Counterfactual point do(x2 =0.3)\n",
    "    CF_x1.append((scm_remove_intervention.x1_obs - scm_intervention.x1_obs)**2)\n",
    "    CF_x2.append((scm_remove_intervention.x2_obs - scm_intervention.x2_obs)**2)\n",
    "    CF_x3.append((scm_remove_intervention.x3_obs - scm_intervention.x3_obs)**2)\n",
    "    CF_x4.append((scm_remove_intervention.x4_obs - scm_intervention.x4_obs)**2)\n",
    "    #print(scm_remove_intervention.x1_obs,scm_remove_intervention.x2_obs,scm_remove_intervention.x3_obs,scm_remove_intervention.x4_obs,sep='\\n')"
   ]
  },
  {
   "cell_type": "code",
   "execution_count": 9,
   "id": "0d7ed332",
   "metadata": {},
   "outputs": [
    {
     "name": "stdout",
     "output_type": "stream",
     "text": [
      "20.413206\n",
      "5.103301\n"
     ]
    }
   ],
   "source": [
    "for i in [CF_x3, CF_x4]:\n",
    "    print(f'{np.mean(i):.6f}')"
   ]
  },
  {
   "cell_type": "code",
   "execution_count": 7,
   "id": "b14f1a72",
   "metadata": {},
   "outputs": [
    {
     "data": {
      "image/png": "[encoded data removed]",
      "text/plain": [
       "<Figure size 800x600 with 1 Axes>"
      ]
     },
     "metadata": {},
     "output_type": "display_data"
    }
   ],
   "source": [
    "G = nx.DiGraph()\n",
    "G.add_nodes_from(['X1', 'X2', 'X3', 'X4','U1','U2','U3','U4'])\n",
    "G.add_edges_from([('U1','X1'),('U2','X2'),('U3','X3'),('U4','X4'),('X1', 'X2'), ('X1', 'X3'), ('X2', 'X3'),('X3','X4')])\n",
    "\n",
    "plt.figure(figsize=(8, 6))\n",
    "#bipartite_layout(G, nodes, align='vertical', scale=1, center=None, aspect_ratio=1.3333333333333333)[source]\n",
    "\n",
    "pos = {'U1':np.array([-1.  , 1.5]),\n",
    "       'U2':np.array([-1.  , -1.5]),\n",
    "    'X2': np.array([-1.  , -0.75]),\n",
    " 'X1': np.array([-1.  ,  0.75]),\n",
    " 'X3': np.array([ 1.  , 0.]),\n",
    " 'U3': np.array([ 1.  , 0.75]),\n",
    " 'U4': np.array([ 3.75  , 0.]),\n",
    " 'X4': np.array([3 , 0])} \n",
    "nx.draw_networkx(G, pos, with_labels=True, node_size=1000, node_color='lightgrey', font_size=12, font_weight='bold', arrows=True)\n",
    "plt.title('Simpon')\n",
    "plt.axis('off')  # Disable axis\n",
    "plt.show()"
   ]
  },
  {
   "cell_type": "code",
   "execution_count": 16,
   "id": "dafec02d",
   "metadata": {},
   "outputs": [
    {
     "data": {
      "image/png": "[encoded data removed]",
      "text/plain": [
       "<Figure size 800x600 with 1 Axes>"
      ]
     },
     "metadata": {},
     "output_type": "display_data"
    }
   ],
   "source": [
    "G = nx.DiGraph()\n",
    "G.add_nodes_from(['X1', 'X2', 'X3', 'X4','U1','U2','U3','U4'])\n",
    "G.add_edges_from([('U1','X1'),('U2','X2'),('U3','X3'),('U4','X4'),('X1', 'X2'), ('X1', 'X3'),('X3','X4')])\n",
    "\n",
    "plt.figure(figsize=(8, 6))\n",
    "#bipartite_layout(G, nodes, align='vertical', scale=1, center=None, aspect_ratio=1.3333333333333333)[source]\n",
    "\n",
    "pos = {'U1':np.array([-1.  , 1.5]),\n",
    "       'U2':np.array([-1.  , -1.5]),\n",
    "    'X2': np.array([-1.  , -0.75]),\n",
    " 'X1': np.array([-1.  ,  0.75]),\n",
    " 'X3': np.array([ 1.  , 0.]),\n",
    " 'U3': np.array([ 1.  , 0.75]),\n",
    " 'U4': np.array([ 3.75  , 0.]),\n",
    " 'X4': np.array([3 , 0])} \n",
    "nx.draw_networkx(G, pos, with_labels=True, node_size=1000, node_color='lightgrey', font_size=12, font_weight='bold', arrows=True)\n",
    "plt.title('Simpon')\n",
    "plt.axis('off')  # Disable axis\n",
    "plt.show()"
   ]
  },
  {
   "cell_type": "code",
   "execution_count": null,
   "id": "4f7a0763",
   "metadata": {},
   "outputs": [],
   "source": []
  }
 ],
 "metadata": {
  "kernelspec": {
   "display_name": "Python 3 (ipykernel)",
   "language": "python",
   "name": "python3"
  },
  "language_info": {
   "codemirror_mode": {
    "name": "ipython",
    "version": 3
   },
   "file_extension": ".py",
   "mimetype": "text/x-python",
   "name": "python",
   "nbconvert_exporter": "python",
   "pygments_lexer": "ipython3",
   "version": "3.10.7"
  }
 },
 "nbformat": 4,
 "nbformat_minor": 5
}
